{
 "cells": [
  {
   "cell_type": "code",
   "execution_count": 108,
   "metadata": {},
   "outputs": [
    {
     "name": "stdout",
     "output_type": "stream",
     "text": [
      "ctx = BBBAA\n",
      "gen = BBBAAAAAAAABBBBBBAAA\n"
     ]
    }
   ],
   "source": [
    "import random\n",
    "\n",
    "class Rule:\n",
    "    def apply_rule(self, dataset, token):\n",
    "        raise NotImplementedError(\"Each rule must implement an apply_rule method.\")\n",
    "\n",
    "class MultipleRule(Rule):\n",
    "    def __init__(self, multiple):\n",
    "        self.multiple = multiple\n",
    "        self.range = 2 #hardcoded for simplicity\n",
    "\n",
    "    def apply_rule(self, dataset, token):\n",
    "        # Generate all valid multiples of the token\n",
    "        return [token * self.multiple * i for i in range(1, self.range)]\n",
    "\n",
    "class CopyBehindRule(Rule):\n",
    "    def apply_rule(self, dataset, token):\n",
    "        raise NotImplementedError(\"we need to think through this rule more\")\n",
    "        # Copy the last character of the dataset\n",
    "        if dataset:\n",
    "            return [token + dataset[-1]]\n",
    "        return []\n",
    "\n",
    "class DatasetGenerator:\n",
    "    def __init__(self, n, rules):\n",
    "        self.vocabulary = [chr(i) for i in range(65, 65 + n)]\n",
    "        self.rules = rules\n",
    "\n",
    "    def generate(self, l_c, l_t):\n",
    "        dataset = \"\"\n",
    "        while len(dataset) < l_t:\n",
    "            token = random.choice(self.vocabulary)\n",
    "            rule_set = self.rules.get(token, [])\n",
    "            \n",
    "            if not rule_set:\n",
    "                # No rules for the token, add it to the dataset\n",
    "                raise ValueError(f\"No rules defined for token '{token}'.\")\n",
    "            \n",
    "            possible_continuations = []\n",
    "            for rule in rule_set:\n",
    "                continuations = rule.apply_rule(dataset, token)\n",
    "                possible_continuations.append(continuations)\n",
    "            \n",
    "            # Find a common continuation that satisfies all rules\n",
    "            common_continuations = set.intersection(*map(set, possible_continuations)) if possible_continuations else []\n",
    "            \n",
    "            if common_continuations:\n",
    "                continuation = random.choice(list(common_continuations))\n",
    "                dataset += continuation\n",
    "            else:\n",
    "                # No valid continuation found that satisfies all rules\n",
    "                rule_descriptions = [type(rule).__name__ for rule in rule_set]\n",
    "                remaining_length = l_t - len(dataset)\n",
    "                error_message = (\n",
    "                    f\"Token '{token}' with rules {', '.join(rule_descriptions)} cannot be applied. \"\n",
    "                    f\"Current dataset: '{dataset}', remaining length: {remaining_length}, \"\n",
    "                    f\"required context length: {l_c}, total target length: {l_t}.\"\n",
    "                )\n",
    "                raise ValueError(error_message)\n",
    "\n",
    "        return dataset[:l_t]\n",
    "\n",
    "# Example usage\n",
    "rules = {\n",
    "    'A': [MultipleRule(2)],\n",
    "    'B': [MultipleRule(3)]\n",
    "}\n",
    "n = 2\n",
    "l_c = 5\n",
    "l_t = 20 \n",
    "generator = DatasetGenerator(n, rules)\n",
    "try:\n",
    "    dataset = generator.generate(l_c, l_t)\n",
    "    print(f\"ctx = {dataset[:l_c]}\")\n",
    "    print(f\"gen = {dataset}\")\n",
    "except ValueError as e:\n",
    "    print(e)"
   ]
  }
 ],
 "metadata": {
  "kernelspec": {
   "display_name": "sysbio",
   "language": "python",
   "name": "python3"
  },
  "language_info": {
   "codemirror_mode": {
    "name": "ipython",
    "version": 3
   },
   "file_extension": ".py",
   "mimetype": "text/x-python",
   "name": "python",
   "nbconvert_exporter": "python",
   "pygments_lexer": "ipython3",
   "version": "3.11.8"
  }
 },
 "nbformat": 4,
 "nbformat_minor": 2
}
